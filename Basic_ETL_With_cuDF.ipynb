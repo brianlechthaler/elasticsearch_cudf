{
 "cells": [
  {
   "cell_type": "code",
   "execution_count": 1,
   "metadata": {},
   "outputs": [],
   "source": [
    "import cudf\n",
    "from elasticsearch_dsl import Search as S\n",
    "from connect import connection\n",
    "from connect import ElasticsearchIndex as es_idx\n",
    "from elasticsearch import Elasticsearch as E\n",
    "import pandas as pd\n",
    "from elasticsearch_dsl import Q\n",
    "import cupy as cp"
   ]
  },
  {
   "cell_type": "code",
   "execution_count": 2,
   "metadata": {},
   "outputs": [],
   "source": [
    "xr = None\n",
    "def x(results):\n",
    "    xs = S().using(connection)\n",
    "    xs = xs.query(\"match\", type='ConPot')\n",
    "    xs = xs.source([\"src_ip\"])\n",
    "    xs = xs[0:results]\n",
    "    xr = xs.execute()\n",
    "    return xr"
   ]
  },
  {
   "cell_type": "code",
   "execution_count": 3,
   "metadata": {},
   "outputs": [],
   "source": [
    "def y(results):\n",
    "    nresults = results + 1\n",
    "    z = x(nresults)\n",
    "    nhit = 0\n",
    "    df = cudf.DataFrame()\n",
    "    xdf = cudf.DataFrame()\n",
    "    for hit in z:\n",
    "        #nhit = nhit + 1\n",
    "        xdf = cudf.DataFrame({\n",
    "        'srcip': hit.src_ip,\n",
    "        })\n",
    "        df = df.append(xdf)\n",
    "    return(df)"
   ]
  },
  {
   "cell_type": "code",
   "execution_count": 4,
   "metadata": {},
   "outputs": [],
   "source": [
    "def uniqueIPs(sampleSize):\n",
    "    noisydata = y(sampleSize)\n",
    "    cleandata = noisydata.drop_duplicates()\n",
    "    return cleandata"
   ]
  },
  {
   "cell_type": "code",
   "execution_count": 5,
   "metadata": {},
   "outputs": [
    {
     "name": "stdout",
     "output_type": "stream",
     "text": [
      "Output redacted, uncomment the line below and comment this line to reveal output\n"
     ]
    }
   ],
   "source": [
    "testuips = uniqueIPs(1000)\n",
    "print(\"Output redacted, uncomment the line below and comment this line to reveal output\")\n",
    "#print(testuips.head)"
   ]
  },
  {
   "cell_type": "code",
   "execution_count": 6,
   "metadata": {},
   "outputs": [],
   "source": [
    "testuips.to_csv('./srcip.csv')"
   ]
  },
  {
   "cell_type": "code",
   "execution_count": 7,
   "metadata": {},
   "outputs": [
    {
     "name": "stdout",
     "output_type": "stream",
     "text": [
      "171\n"
     ]
    }
   ],
   "source": [
    "!cat ./srcip.csv | wc -l"
   ]
  },
  {
   "cell_type": "code",
   "execution_count": 8,
   "metadata": {},
   "outputs": [],
   "source": [
    "zr = None\n",
    "def z(typekeyword):\n",
    "    zdf = cudf.DataFrame()\n",
    "    scandf = cudf.DataFrame()\n",
    "    zs = S().using(connection)\n",
    "    zs = zs.query(\"match\", type=typekeyword)\n",
    "    zs = zs.source([\"src_ip\"])\n",
    "    for hit in zs.scan():\n",
    "        zdf = cudf.DataFrame({\n",
    "            'srcip': hit.src_ip,\n",
    "        })\n",
    "        scandf = scandf.append(zdf)\n",
    "    return scandf"
   ]
  },
  {
   "cell_type": "code",
   "execution_count": 9,
   "metadata": {},
   "outputs": [
    {
     "name": "stdout",
     "output_type": "stream",
     "text": [
      "Output redacted, uncomment the line below and comment this line to reveal output\n"
     ]
    }
   ],
   "source": [
    "zz = z('CitrixHoneypot')\n",
    "print(\"Output redacted, uncomment the line below and comment this line to reveal output\")\n",
    "#print(zz.head)\n",
    "msg = \"Number of IP addresses before deduplication: \" + str(len(zz))"
   ]
  },
  {
   "cell_type": "code",
   "execution_count": 10,
   "metadata": {},
   "outputs": [
    {
     "name": "stdout",
     "output_type": "stream",
     "text": [
      "Output redacted, uncomment the line below and comment this line to reveal output\n"
     ]
    }
   ],
   "source": [
    "zzz = zz.drop_duplicates()\n",
    "print(\"Output redacted, uncomment the line below and comment this line to reveal output\")\n",
    "#print(zzz.head)\n",
    "msg = \"Unique IP Addresses: \" + str(len(zzz))"
   ]
  }
 ],
 "metadata": {
  "kernelspec": {
   "display_name": "Python 3",
   "language": "python",
   "name": "python3"
  },
  "language_info": {
   "codemirror_mode": {
    "name": "ipython",
    "version": 3
   },
   "file_extension": ".py",
   "mimetype": "text/x-python",
   "name": "python",
   "nbconvert_exporter": "python",
   "pygments_lexer": "ipython3",
   "version": "3.7.8"
  }
 },
 "nbformat": 4,
 "nbformat_minor": 4
}
