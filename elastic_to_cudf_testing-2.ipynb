{
 "cells": [
  {
   "cell_type": "code",
   "execution_count": null,
   "metadata": {},
   "outputs": [],
   "source": [
    "import cudf\n",
    "from elasticsearch_dsl import Search as S\n",
    "from connect import connection\n",
    "from connect import ElasticsearchIndex as es_idx\n",
    "from elasticsearch import Elasticsearch as E\n",
    "import pandas as pd\n",
    "from elasticsearch_dsl import Q"
   ]
  },
  {
   "cell_type": "code",
   "execution_count": null,
   "metadata": {},
   "outputs": [],
   "source": [
    "df = cudf.DataFrame()"
   ]
  },
  {
   "cell_type": "code",
   "execution_count": null,
   "metadata": {},
   "outputs": [],
   "source": []
  },
  {
   "cell_type": "code",
   "execution_count": null,
   "metadata": {},
   "outputs": [],
   "source": []
  },
  {
   "cell_type": "code",
   "execution_count": null,
   "metadata": {},
   "outputs": [],
   "source": [
    "class find:\n",
    "    def dslq():\n",
    "        x = S(using=c)\n",
    "        x = x.index(es_idx)\n",
    "        x = x.query(\"match\", type__keyword=\"Dionaea\")"
   ]
  },
  {
   "cell_type": "code",
   "execution_count": null,
   "metadata": {},
   "outputs": [],
   "source": [
    "xs = S().using(connection)\n",
    "query = Q(\"multi_match\", query='Dionaea', fields=['type.keyword'])\n",
    "xs = xs.query(query)\n",
    "xs = xs.source([\"type\", \"timestamp\", \"src_ip\", \"dest_ip\", \"dest_port\"])\n",
    "xs = xs[1:1000]"
   ]
  },
  {
   "cell_type": "code",
   "execution_count": null,
   "metadata": {},
   "outputs": [],
   "source": [
    "res = xs.execute()\n",
    "for hit in res:\n",
    "    #xdf = cudf.DataFrame()\n",
    "    xdf = cudf.DataFrame({\n",
    "        '@time': hit.timestamp,\n",
    "        'dstip': hit.dest_ip,\n",
    "        'srcip': hit.src_ip,\n",
    "        'type': hit.type,\n",
    "        'dstport': hit.dest_port\n",
    "    })\n",
    "    df = df.append(xdf)"
   ]
  },
  {
   "cell_type": "code",
   "execution_count": null,
   "metadata": {},
   "outputs": [],
   "source": [
    "print(df)"
   ]
  },
  {
   "cell_type": "code",
   "execution_count": null,
   "metadata": {},
   "outputs": [],
   "source": [
    "print(len(df))"
   ]
  },
  {
   "cell_type": "code",
   "execution_count": null,
   "metadata": {},
   "outputs": [],
   "source": [
    "#for hit in res:\n",
    "    #print(hit.to_dict)"
   ]
  },
  {
   "cell_type": "code",
   "execution_count": null,
   "metadata": {},
   "outputs": [],
   "source": [
    "bx = {\n",
    "  \"size\": 1,\n",
    "  \"sort\": [\n",
    "    {\n",
    "      \"@timestamp\": {\n",
    "        \"order\": \"desc\",\n",
    "        \"unmapped_type\": \"boolean\"\n",
    "      }\n",
    "    }\n",
    "  ],\n",
    "  \"aggs\": {\n",
    "    \"2\": {\n",
    "      \"date_histogram\": {\n",
    "        \"field\": \"@timestamp\",\n",
    "        \"fixed_interval\": \"30s\",\n",
    "        \"time_zone\": \"America/Los_Angeles\",\n",
    "        \"min_doc_count\": 1\n",
    "      }\n",
    "    }\n",
    "  },\n",
    "  \"stored_fields\": [\n",
    "    \"*\"\n",
    "  ],\n",
    "  \"script_fields\": {},\n",
    "  \"docvalue_fields\": [\n",
    "    {\n",
    "      \"field\": \"@timestamp\",\n",
    "      \"format\": \"date_time\"\n",
    "    },\n",
    "    {\n",
    "      \"field\": \"end_time\",\n",
    "      \"format\": \"date_time\"\n",
    "    },\n",
    "    {\n",
    "      \"field\": \"flow.start\",\n",
    "      \"format\": \"date_time\"\n",
    "    },\n",
    "    {\n",
    "      \"field\": \"start_time\",\n",
    "      \"format\": \"date_time\"\n",
    "    },\n",
    "    {\n",
    "      \"field\": \"timestamp\",\n",
    "      \"format\": \"date_time\"\n",
    "    },\n",
    "    {\n",
    "      \"field\": \"tls.notafter\",\n",
    "      \"format\": \"date_time\"\n",
    "    },\n",
    "    {\n",
    "      \"field\": \"tls.notbefore\",\n",
    "      \"format\": \"date_time\"\n",
    "    }\n",
    "  ],\n",
    "  \"_source\": {\n",
    "    \"excludes\": []\n",
    "  },\n",
    "  \"query\": {\n",
    "    \"bool\": {\n",
    "      \"must\": [],\n",
    "      \"filter\": [\n",
    "        {\n",
    "          \"match_all\": {}\n",
    "        },\n",
    "        {\n",
    "          \"range\": {\n",
    "            \"@timestamp\": {\n",
    "              \"gte\": \"2020-10-24T23:01:45.478Z\",\n",
    "              \"lte\": \"2020-10-24T23:16:45.478Z\",\n",
    "              \"format\": \"strict_date_optional_time\"\n",
    "            }\n",
    "          }\n",
    "        }\n",
    "      ],\n",
    "      \"should\": [],\n",
    "      \"must_not\": []\n",
    "    }\n",
    "  },\n",
    "  \"highlight\": {\n",
    "    \"pre_tags\": [\n",
    "      \"@kibana-highlighted-field@\"\n",
    "    ],\n",
    "    \"post_tags\": [\n",
    "      \"@/kibana-highlighted-field@\"\n",
    "    ],\n",
    "    \"fields\": {\n",
    "      \"*\": {}\n",
    "    },\n",
    "    \"fragment_size\": 2147483647\n",
    "  }\n",
    "}"
   ]
  },
  {
   "cell_type": "code",
   "execution_count": null,
   "metadata": {},
   "outputs": [],
   "source": [
    "xres = connection.search(index='logstash-*', body=bx, size=1)"
   ]
  },
  {
   "cell_type": "code",
   "execution_count": null,
   "metadata": {},
   "outputs": [],
   "source": [
    "#xres = xres.execute()\n",
    "for key, val in xres[\"hits\"].items():\n",
    "    \n",
    "    print(key, val)"
   ]
  },
  {
   "cell_type": "code",
   "execution_count": null,
   "metadata": {},
   "outputs": [],
   "source": [
    "for hit in xres:\n",
    "    print(hit)"
   ]
  },
  {
   "cell_type": "code",
   "execution_count": null,
   "metadata": {},
   "outputs": [],
   "source": [
    "xx = xres[\"hits\"].items()\n",
    "print(xx)"
   ]
  },
  {
   "cell_type": "code",
   "execution_count": null,
   "metadata": {},
   "outputs": [],
   "source": []
  }
 ],
 "metadata": {
  "kernelspec": {
   "display_name": "Python 3",
   "language": "python",
   "name": "python3"
  },
  "language_info": {
   "codemirror_mode": {
    "name": "ipython",
    "version": 3
   },
   "file_extension": ".py",
   "mimetype": "text/x-python",
   "name": "python",
   "nbconvert_exporter": "python",
   "pygments_lexer": "ipython3",
   "version": "3.8.6"
  }
 },
 "nbformat": 4,
 "nbformat_minor": 4
}
